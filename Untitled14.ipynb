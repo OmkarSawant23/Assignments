{
 "cells": [
  {
   "cell_type": "raw",
   "id": "95a449dd",
   "metadata": {},
   "source": [
    "1. In the below elements which of them are values or an expression? eg:- values can be\n",
    "integer or string and expressions will be mathematical operators.\n",
    "*\n",
    "'hello'\n",
    "-87.8\n",
    "-\n",
    "/\n",
    "+\n",
    "6\n",
    "\n",
    "ans : from above elements values are hello, -87.8 , 6\n",
    "      expressions are *, -, /, +\n",
    "      \n",
    "      "
   ]
  },
  {
   "cell_type": "raw",
   "id": "f4817a2b",
   "metadata": {},
   "source": [
    "2. What is the difference between string and variable?\n",
    "ans : Variable is something that is used for storing data and it can be of any type.\n",
    "     string is a data type which is used to store a specific data type ie. \"I am Omkar\""
   ]
  },
  {
   "cell_type": "raw",
   "id": "d7157a86",
   "metadata": {},
   "source": [
    "3. Describe three different data types.\n",
    "ans : three data types are as follows\n",
    "      1. int: int is a data type which we use for storing integer values.\n",
    "         i.e int a = 10\n",
    "         \n",
    "      2. float:This data type is used for storing floating point values.\n",
    "         i.e. float b = 10.5\n",
    "      3. string: This is a data type which is used for storing string values.\n",
    "         i.e. string l = \"I am Omkar\""
   ]
  },
  {
   "cell_type": "raw",
   "id": "fb7c9f9c",
   "metadata": {},
   "source": [
    "4. What is an expression made up of? What do all expressions do?\n",
    "ans : Expression is combination of operators and operands.\n",
    "      Expressions usually return a value after solving the equation."
   ]
  },
  {
   "cell_type": "raw",
   "id": "cf225f5b",
   "metadata": {},
   "source": [
    "5. This assignment statements, like spam = 10. What is the difference between an\n",
    "   expression and a statement?\n",
    "ans : the given statment spam = 10 stores the value 10 into the variable spam. the major difference between statment and       expression will be that a statement is used for creation of a variable whereas experession wil always return a value after execution, \n"
   ]
  },
  {
   "cell_type": "raw",
   "id": "9bd77ac4",
   "metadata": {},
   "source": [
    "6. After running the following code, what does the variable bacon contain?\n",
    "bacon = 22\n",
    "bacon + 1\n",
    "ans : value of 22 which is stored in variable bacon will be incremented by 1 so bacon = 23"
   ]
  },
  {
   "cell_type": "raw",
   "id": "76aadcf3",
   "metadata": {},
   "source": [
    "7. What should the values of the following two terms be?\n",
    "'spam' +'spamspam'\n",
    "'spam' * 3\n",
    " ans : values of both terms will be same which is spamspamspam"
   ]
  },
  {
   "cell_type": "raw",
   "id": "bb72d37a",
   "metadata": {},
   "source": [
    "8. Why is eggs a valid variable name while 100 is invalid?\n",
    "ans :  this is beacuse a number cant be variable as the compiler will get confused if this is an identifer."
   ]
  },
  {
   "cell_type": "raw",
   "id": "5d8ad73e",
   "metadata": {},
   "source": [
    "9. What three functions can be used to get the integer, floating-point number, or string\n",
    "version of a value?\n",
    "ans : functions int() , float(), str() can be used respectively to get integer, floating-point number, string \n",
    "      version of a value."
   ]
  },
  {
   "cell_type": "raw",
   "id": "64b1629d",
   "metadata": {},
   "source": [
    "10. Why does this expression cause an error? How can you fix it?\n",
    "     a= 'I have eaten' + 99 +  'burritos'\n",
    "ans : this expression gives error because integer and string cannot be concatinated so to work this we can convert the integer\n",
    "      into string for i.e\n",
    "    a= 'I have eaten' + '99' +  'burritos'"
   ]
  },
  {
   "cell_type": "code",
   "execution_count": null,
   "id": "716bfc2b",
   "metadata": {},
   "outputs": [],
   "source": []
  }
 ],
 "metadata": {
  "kernelspec": {
   "display_name": "Python 3 (ipykernel)",
   "language": "python",
   "name": "python3"
  },
  "language_info": {
   "codemirror_mode": {
    "name": "ipython",
    "version": 3
   },
   "file_extension": ".py",
   "mimetype": "text/x-python",
   "name": "python",
   "nbconvert_exporter": "python",
   "pygments_lexer": "ipython3",
   "version": "3.9.13"
  }
 },
 "nbformat": 4,
 "nbformat_minor": 5
}
